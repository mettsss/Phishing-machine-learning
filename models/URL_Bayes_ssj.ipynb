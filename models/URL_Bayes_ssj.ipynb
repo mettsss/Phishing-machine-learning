{
 "cells": [
  {
   "cell_type": "code",
   "execution_count": 7,
   "id": "54f50a65",
   "metadata": {},
   "outputs": [],
   "source": [
    "import pandas\n",
    "import array\n",
    "import numpy as np\n",
    "import matplotlib.pyplot as plt\n",
    "from sklearn.model_selection import train_test_split\n",
    "from sklearn.metrics import confusion_matrix\n",
    "from imblearn.combine import SMOTETomek\n",
    "from sklearn.model_selection import GridSearchCV\n",
    "from sklearn.metrics import accuracy_score\n",
    "from sklearn.naive_bayes import MultinomialNB,GaussianNB,BernoulliNB"
   ]
  },
  {
   "cell_type": "code",
   "execution_count": 2,
   "id": "5bda7295",
   "metadata": {},
   "outputs": [],
   "source": [
    "#plot condusion matrix\n",
    "def plot_confusion_matrix2(cm_input, title='Normalized Confusion Matrix'):\n",
    "    labels=['phishing','legitimate']\n",
    "    cm = cm_input.astype('float') / cm_input.sum(axis=1)[:, np.newaxis]\n",
    "    plt.imshow(cm, interpolation='nearest', cmap=plt.get_cmap('Blues'))\n",
    "    plt.text(-0.15,0.05, '%.3f' %cm[0][0],fontsize=14,color = 'w')\n",
    "    plt.text(0.8,0.05, '%.3f' %cm[0][1],fontsize=14,color = 'k')\n",
    "    plt.text(-0.15,1.05, '%.3f' %cm[1][0],fontsize=14,color = 'k')\n",
    "    plt.text(0.8,1.05, '%.3f' %cm[1][1],fontsize=14,color = 'w')\n",
    "    plt.title(title)\n",
    "    plt.colorbar()\n",
    "    xlocations = np.array(range(len(labels)))\n",
    "    plt.xticks(xlocations, labels, rotation=90)\n",
    "    plt.yticks(xlocations, labels)\n",
    "    plt.ylabel('True label')\n",
    "    plt.xlabel('Predicted label')\n",
    "    np.set_printoptions(precision=2)\n",
    "    # show confusion matrix\n",
    "    plt.show()"
   ]
  },
  {
   "cell_type": "code",
   "execution_count": 3,
   "id": "4eb13e68",
   "metadata": {},
   "outputs": [],
   "source": [
    "#loading data\n",
    "data_X=pandas.read_csv(r\"data_X.csv\",header = None)\n",
    "data_y=pandas.read_csv(r\"data_y.csv\",header = None)\n",
    "\n",
    "#Balancing data\n",
    "smt = SMOTETomek(random_state=42)\n",
    "X_res, y_res = smt.fit_resample(data_X, data_y)\n",
    "\n",
    "#reshaping data\n",
    "X_res=X_res.values\n",
    "y_res=y_res.values.ravel()\n",
    "\n",
    "#split test and train data\n",
    "X_train, X_test, y_train, y_test = train_test_split(X_res, y_res, test_size=0.33, random_state=42)"
   ]
  },
  {
   "cell_type": "code",
   "execution_count": 35,
   "id": "63428f67",
   "metadata": {},
   "outputs": [],
   "source": [
    "plist=[]\n",
    "for i in range(5):\n",
    "    b = np.random.dirichlet(np.ones(22), size=1)\n",
    "    b.sort()\n",
    "    b = np.around(b, 4).tolist()\n",
    "    b = b[0]\n",
    "    b = b\n",
    "    plist.append(b)\n",
    "plist.append(None)"
   ]
  },
  {
   "cell_type": "code",
   "execution_count": 39,
   "id": "6b45e01f",
   "metadata": {},
   "outputs": [
    {
     "name": "stdout",
     "output_type": "stream",
     "text": [
      "Accuracy: 0.8853029795781721\n"
     ]
    },
    {
     "data": {
      "image/png": "[encoded data removed]",
      "text/plain": [
       "<Figure size 432x288 with 2 Axes>"
      ]
     },
     "metadata": {
      "needs_background": "light"
     },
     "output_type": "display_data"
    },
    {
     "name": "stdout",
     "output_type": "stream",
     "text": [
      "{'priors': None, 'var_smoothing': 1e-09}\n"
     ]
    }
   ],
   "source": [
    "clf = GaussianNB()\n",
    "clf.fit(X_train,y_train)\n",
    "y_pred=clf.predict(X_test)\n",
    "cm = confusion_matrix(y_test, y_pred)\n",
    "acc=clf.score(X_test, y_test)\n",
    "print('Accuracy:',acc)\n",
    "plot_confusion_matrix2(cm)\n",
    "print(clf.get_params())"
   ]
  },
  {
   "cell_type": "code",
   "execution_count": 11,
   "id": "cd26bd6c",
   "metadata": {},
   "outputs": [
    {
     "data": {
      "text/plain": [
       "\"clf = BernoulliNB()\\nclf.fit(X_train,y_train)\\ny_pred=clf.predict(X_test)\\ncm = confusion_matrix(y_test, y_pred)\\nacc=clf.score(X_test, y_test)\\nprint('Accuracy:',acc)\\nplot_confusion_matrix2(cm)\""
      ]
     },
     "execution_count": 11,
     "metadata": {},
     "output_type": "execute_result"
    }
   ],
   "source": [
    "'''clf = BernoulliNB()\n",
    "clf.fit(X_train,y_train)\n",
    "y_pred=clf.predict(X_test)\n",
    "cm = confusion_matrix(y_test, y_pred)\n",
    "acc=clf.score(X_test, y_test)\n",
    "print('Accuracy:',acc)\n",
    "plot_confusion_matrix2(cm)'''#0.86"
   ]
  },
  {
   "cell_type": "code",
   "execution_count": 10,
   "id": "6caf6fca",
   "metadata": {},
   "outputs": [
    {
     "data": {
      "text/plain": [
       "\"clf = MultinomialNB()\\nclf.fit(X_train,y_train)\\ny_pred=clf.predict(X_test)\\ncm = confusion_matrix(y_test, y_pred)\\nacc=clf.score(X_test, y_test)\\nprint('Accuracy:',acc)\\nplot_confusion_matrix2(cm)\""
      ]
     },
     "execution_count": 10,
     "metadata": {},
     "output_type": "execute_result"
    }
   ],
   "source": [
    "'''clf = MultinomialNB()\n",
    "clf.fit(X_train,y_train)\n",
    "y_pred=clf.predict(X_test)\n",
    "cm = confusion_matrix(y_test, y_pred)\n",
    "acc=clf.score(X_test, y_test)\n",
    "print('Accuracy:',acc)\n",
    "plot_confusion_matrix2(cm)'''#0.73"
   ]
  },
  {
   "cell_type": "code",
   "execution_count": 37,
   "id": "db80281d",
   "metadata": {},
   "outputs": [
    {
     "data": {
      "text/plain": [
       "\"priors=plist\\nvar_smoothing = [1e-9,1e-8,1e-7]\\nparam=dict(priors=priors,var_smoothing=var_smoothing)\\n\\nmodel= GaussianNB()\\ngrid_search=GridSearchCV(model,param,n_jobs=-1,verbose=1)\\nclf_grid=grid_search.fit(X_train,y_train)\\n\\npred_test2=clf_grid.predict(X_test)\\nacc2=accuracy_score(y_test,pred_test2)\\naccuracy_score(y_test,pred_test2)\\n\\nprint('Parameters: ',clf_grid.best_params_)\\n\\naccc=accuracy_score(y_test,pred_test2)\\nprint('The best accuracy: ','%.3f'%accc)\\ncm_best = confusion_matrix(y_test, pred_test2)\\nplot_confusion_matrix2(cm_best)\""
      ]
     },
     "execution_count": 37,
     "metadata": {},
     "output_type": "execute_result"
    }
   ],
   "source": [
    "'''priors=plist\n",
    "var_smoothing = [1e-9,1e-8,1e-7]\n",
    "param=dict(priors=priors,var_smoothing=var_smoothing)\n",
    "\n",
    "model= GaussianNB()\n",
    "grid_search=GridSearchCV(model,param,n_jobs=-1,verbose=1)\n",
    "clf_grid=grid_search.fit(X_train,y_train)\n",
    "\n",
    "pred_test2=clf_grid.predict(X_test)\n",
    "acc2=accuracy_score(y_test,pred_test2)\n",
    "accuracy_score(y_test,pred_test2)\n",
    "\n",
    "print('Parameters: ',clf_grid.best_params_)\n",
    "\n",
    "accc=accuracy_score(y_test,pred_test2)\n",
    "print('The best accuracy: ','%.3f'%accc)\n",
    "cm_best = confusion_matrix(y_test, pred_test2)\n",
    "plot_confusion_matrix2(cm_best)'''"
   ]
  },
  {
   "cell_type": "code",
   "execution_count": null,
   "id": "1d5aa826",
   "metadata": {},
   "outputs": [],
   "source": []
  }
 ],
 "metadata": {
  "kernelspec": {
   "display_name": "Python 3",
   "language": "python",
   "name": "python3"
  },
  "language_info": {
   "codemirror_mode": {
    "name": "ipython",
    "version": 3
   },
   "file_extension": ".py",
   "mimetype": "text/x-python",
   "name": "python",
   "nbconvert_exporter": "python",
   "pygments_lexer": "ipython3",
   "version": "3.8.8"
  }
 },
 "nbformat": 4,
 "nbformat_minor": 5
}
