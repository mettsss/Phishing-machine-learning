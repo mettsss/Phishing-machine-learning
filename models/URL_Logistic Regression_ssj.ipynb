{
 "cells": [
  {
   "cell_type": "code",
   "execution_count": 66,
   "id": "e5cf9ead",
   "metadata": {},
   "outputs": [],
   "source": [
    "import pandas\n",
    "import array\n",
    "import numpy as np\n",
    "import matplotlib.pyplot as plt\n",
    "from sklearn import linear_model\n",
    "from sklearn.linear_model import LogisticRegression\n",
    "from sklearn.model_selection import train_test_split\n",
    "from sklearn.metrics import confusion_matrix\n",
    "from imblearn.combine import SMOTETomek"
   ]
  },
  {
   "cell_type": "code",
   "execution_count": 155,
   "id": "f360f093",
   "metadata": {},
   "outputs": [],
   "source": [
    "#plot condusion matrix\n",
    "def plot_confusion_matrix2(cm_input, title='Normalized Confusion Matrix'):\n",
    "    labels=['phishing','legitimate']\n",
    "    cm = cm_input.astype('float') / cm_input.sum(axis=1)[:, np.newaxis]\n",
    "    plt.imshow(cm, interpolation='nearest', cmap=plt.get_cmap('Blues'))\n",
    "    plt.text(-0.15,0.05, '%.3f' %cm[0][0],fontsize=14,color = 'w')\n",
    "    plt.text(0.8,0.05, '%.3f' %cm[0][1],fontsize=14,color = 'k')\n",
    "    plt.text(-0.15,1.05, '%.3f' %cm[1][0],fontsize=14,color = 'k')\n",
    "    plt.text(0.8,1.05, '%.3f' %cm[1][1],fontsize=14,color = 'w')\n",
    "    plt.title(title)\n",
    "    plt.colorbar()\n",
    "    xlocations = np.array(range(len(labels)))\n",
    "    plt.xticks(xlocations, labels, rotation=90)\n",
    "    plt.yticks(xlocations, labels)\n",
    "    plt.ylabel('True label')\n",
    "    plt.xlabel('Predicted label')\n",
    "    np.set_printoptions(precision=2)\n",
    "    # show confusion matrix\n",
    "    plt.show()"
   ]
  },
  {
   "cell_type": "code",
   "execution_count": 6,
   "id": "7c8a1fe3",
   "metadata": {},
   "outputs": [],
   "source": [
    "#loading data\n",
    "data_X=pandas.read_csv(r\"data_X.csv\",header = None)\n",
    "data_y=pandas.read_csv(r\"data_y.csv\",header = None)\n",
    "\n",
    "#Balancing data\n",
    "smt = SMOTETomek(random_state=42)\n",
    "X_res, y_res = smt.fit_resample(data_X, data_y)\n",
    "\n",
    "#reshaping data\n",
    "X_res=X_res.values\n",
    "y_res=y_res.values.ravel()\n",
    "\n",
    "#split test and train data\n",
    "X_train, X_test, y_train, y_test = train_test_split(X_res, y_res, test_size=0.33, random_state=42)"
   ]
  },
  {
   "cell_type": "code",
   "execution_count": 162,
   "id": "24f2fe4a",
   "metadata": {},
   "outputs": [
    {
     "name": "stdout",
     "output_type": "stream",
     "text": [
      "Accuracy: 0.8920656176765986\n"
     ]
    },
    {
     "data": {
      "image/png": "[encoded data removed]",
      "text/plain": [
       "<Figure size 432x288 with 2 Axes>"
      ]
     },
     "metadata": {
      "needs_background": "light"
     },
     "output_type": "display_data"
    }
   ],
   "source": [
    "clf = LogisticRegression(random_state=0,max_iter=10000).fit(X_train, y_train)\n",
    "y_pred=clf.predict(X_test)\n",
    "cm = confusion_matrix(y_test, y_pred)\n",
    "acc=clf.score(X_test, y_test)\n",
    "print('Accuracy:',acc)\n",
    "plot_confusion_matrix2(cm)"
   ]
  },
  {
   "cell_type": "code",
   "execution_count": 168,
   "id": "bdc1f467",
   "metadata": {},
   "outputs": [
    {
     "data": {
      "image/png": "[encoded data removed]",
      "text/plain": [
       "<Figure size 432x288 with 1 Axes>"
      ]
     },
     "metadata": {
      "needs_background": "light"
     },
     "output_type": "display_data"
    }
   ],
   "source": [
    "importance = clf.coef_[0]\n",
    "features=['cookie_len','form_num','anchor_num','input_email','input_password','hidden','ip_address','Request_url','redirect_page','Mouse_event','right_click','Iframe','web_traffic','number','ifEmail','DNSRecord','ifSymbolAT','url_length','domain_length','subdomain_length','is_https','special_char']\n",
    "for i,v in enumerate(importance):  \n",
    "    #print(i,':',features[i], v)  \n",
    "    plt.bar([x for x in range(len(importance))], importance)  \n",
    "plt.ylabel('importance')\n",
    "plt.xlabel('Features')\n",
    "plt.show()  "
   ]
  },
  {
   "cell_type": "code",
   "execution_count": 77,
   "id": "0b2edb05",
   "metadata": {},
   "outputs": [
    {
     "data": {
      "text/plain": [
       "{'C': 1.0,\n",
       " 'class_weight': None,\n",
       " 'dual': False,\n",
       " 'fit_intercept': True,\n",
       " 'intercept_scaling': 1,\n",
       " 'l1_ratio': None,\n",
       " 'max_iter': 10000,\n",
       " 'multi_class': 'auto',\n",
       " 'n_jobs': None,\n",
       " 'penalty': 'l2',\n",
       " 'random_state': 0,\n",
       " 'solver': 'lbfgs',\n",
       " 'tol': 0.0001,\n",
       " 'verbose': 0,\n",
       " 'warm_start': False}"
      ]
     },
     "execution_count": 77,
     "metadata": {},
     "output_type": "execute_result"
    }
   ],
   "source": [
    "clf.get_params()"
   ]
  }
 ],
 "metadata": {
  "kernelspec": {
   "display_name": "Python 3",
   "language": "python",
   "name": "python3"
  },
  "language_info": {
   "codemirror_mode": {
    "name": "ipython",
    "version": 3
   },
   "file_extension": ".py",
   "mimetype": "text/x-python",
   "name": "python",
   "nbconvert_exporter": "python",
   "pygments_lexer": "ipython3",
   "version": "3.8.8"
  }
 },
 "nbformat": 4,
 "nbformat_minor": 5
}
